{
 "cells": [
  {
   "cell_type": "code",
   "execution_count": 20,
   "metadata": {},
   "outputs": [],
   "source": [
    "import numpy as np\n",
    "np.random.seed(1)\n",
    "import pandas as pd\n",
    "import matplotlib.pyplot as plt\n",
    "%matplotlib inline\n",
    "import sys\n",
    "from sklearn.cross_validation import train_test_split\n",
    "from sklearn.svm import LinearSVC\n",
    "from sklearn import metrics\n",
    "import gensim\n",
    "from gensim.models.doc2vec import Doc2Vec\n",
    "from gensim.models.doc2vec import TaggedDocument\n",
    "from gensim import models"
   ]
  },
  {
   "cell_type": "code",
   "execution_count": 2,
   "metadata": {
    "collapsed": true
   },
   "outputs": [],
   "source": [
    "dfs = pd.read_excel(\"export.xlsx\", sheetname=None)\n",
    "df = dfs['EAI.TBLEVENT']\n",
    "all_events_list = \"ENVIRONMENTAL_EVENT\tPERSONALSAFETY_EVENT\tPROCESSSAFETY_EVENT\tRELIABILITY_EVENT\tSECURITY_EVENT\tQUALITY_EVENT\tAUDIT_EVENT\tASSESSMENT_EVENT\tBEHAVIORTRENDS_EVENT\tSUCCESSANALYSIS_EVENT\tOTHERLEARNINGEXPERIENCE_EV\tOTHERUNPLANNED_EVENT\".split(\"\t\")\n",
    "def get_sum_of_cat_per_row(row, event_list):\n",
    "    sum = 0\n",
    "    for event in event_list:\n",
    "        sum += row[event]\n",
    "    return -sum\n",
    "df['sum_of_categories'] = df.apply(lambda row: get_sum_of_cat_per_row(row, all_events_list), axis=1)\n",
    "df = df.loc[df['sum_of_categories'] == 1]\n",
    "df = df.sample(frac=1)"
   ]
  },
  {
   "cell_type": "code",
   "execution_count": 3,
   "metadata": {},
   "outputs": [
    {
     "data": {
      "text/plain": [
       "(array([ 16268.,   5422.,   2536.,   1247.,    767.,    492.,    341.,\n",
       "           209.,    154.,    109.]),\n",
       " array([   0. ,   36.4,   72.8,  109.2,  145.6,  182. ,  218.4,  254.8,\n",
       "         291.2,  327.6,  364. ]),\n",
       " <a list of 10 Patch objects>)"
      ]
     },
     "execution_count": 3,
     "metadata": {},
     "output_type": "execute_result"
    },
    {
     "data": {
      "image/png": "[encoded data removed]",
      "text/plain": [
       "<matplotlib.figure.Figure at 0xcb44828>"
      ]
     },
     "metadata": {},
     "output_type": "display_data"
    }
   ],
   "source": [
    "df['desc_len'] = df.apply(lambda row: len(str(row['DESCRIPTION']).split()), axis=1)\n",
    "plt.hist(df['desc_len'])"
   ]
  },
  {
   "cell_type": "code",
   "execution_count": null,
   "metadata": {},
   "outputs": [],
   "source": [
    "X_all = df['DESCRIPTION'].values.astype('U')\n",
    "Y_all = -df.loc[:, all_events_list].values\n",
    "Y_all_indices = [ np.where(r==1)[0][0] for r in Y_all ]\n",
    "print(X_all[0:2])\n",
    "print(Y_all[0:2])\n",
    "print(Y_all_indices[0:2])"
   ]
  },
  {
   "cell_type": "code",
   "execution_count": 13,
   "metadata": {
    "collapsed": true
   },
   "outputs": [],
   "source": [
    "train_data_ratio = 0.7\n",
    "split_index = int(train_data_ratio * len(X_all))\n",
    "X_train, Y_train_indices, X_test, Y_test_indices = X_all[0:split_index], Y_all_indices[0:split_index], X_all[split_index:], Y_all_indices[split_index:]"
   ]
  },
  {
   "cell_type": "code",
   "execution_count": 15,
   "metadata": {},
   "outputs": [],
   "source": [
    "tagged_docs = []\n",
    "for i in range(len(X_train)):\n",
    "    str_list = X_train[i].split()\n",
    "    tagged_doc = TaggedDocument(str_list,[Y_train_indices[i]])\n",
    "    tagged_docs.append(tagged_doc)"
   ]
  },
  {
   "cell_type": "code",
   "execution_count": 28,
   "metadata": {},
   "outputs": [
    {
     "name": "stderr",
     "output_type": "stream",
     "text": [
      "C:\\ProgramData\\Anaconda3\\lib\\site-packages\\gensim\\models\\doc2vec.py:359: UserWarning: The parameter `size` is deprecated, will be removed in 4.0.0, use `vector_size` instead.\n",
      "  warnings.warn(\"The parameter `size` is deprecated, will be removed in 4.0.0, use `vector_size` instead.\")\n"
     ]
    }
   ],
   "source": [
    "# model = models.Doc2Vec(alpha=.025, min_alpha=.025, min_count=1)\n",
    "# model.build_vocab(tagged_docs)\n",
    "# for epoch in range(10):\n",
    "#     model.train(tagged_docs, total_examples=model.corpus_count, epochs=model.epochs)\n",
    "#     model.alpha -= 0.002  # decrease the learning rate`\n",
    "#     model.min_alpha = model.alpha  # fix the learning rate, no decay\n",
    "\n",
    "model = models.Doc2Vec(tagged_docs, size=50, window=8, min_count=1, workers=4)\n",
    "model.train(tagged_docs, total_examples=model.corpus_count, epochs=model.epochs)"
   ]
  },
  {
   "cell_type": "code",
   "execution_count": 29,
   "metadata": {},
   "outputs": [],
   "source": [
    "X_train_vec = [model.infer_vector(instance) for instance in X_train]"
   ]
  },
  {
   "cell_type": "code",
   "execution_count": 30,
   "metadata": {},
   "outputs": [
    {
     "data": {
      "text/plain": [
       "LinearSVC(C=1.0, class_weight=None, dual=False, fit_intercept=True,\n",
       "     intercept_scaling=1, loss='squared_hinge', max_iter=1000,\n",
       "     multi_class='ovr', penalty='l1', random_state=None, tol=0.001,\n",
       "     verbose=0)"
      ]
     },
     "execution_count": 30,
     "metadata": {},
     "output_type": "execute_result"
    }
   ],
   "source": [
    "clf = LinearSVC(penalty=\"l1\", dual=False, tol=1e-3)\n",
    "clf.fit(X_train_vec, Y_train_indices)"
   ]
  },
  {
   "cell_type": "code",
   "execution_count": 31,
   "metadata": {},
   "outputs": [
    {
     "name": "stdout",
     "output_type": "stream",
     "text": [
      "0.56330065868\n"
     ]
    }
   ],
   "source": [
    "print(metrics.accuracy_score(Y_train_indices, clf.predict(X_train_vec)))"
   ]
  },
  {
   "cell_type": "code",
   "execution_count": 32,
   "metadata": {},
   "outputs": [
    {
     "name": "stdout",
     "output_type": "stream",
     "text": [
      "0.557357212004\n"
     ]
    }
   ],
   "source": [
    "X_test_vec = [model.infer_vector(instance) for instance in X_test]\n",
    "print(metrics.accuracy_score(Y_test_indices, clf.predict(X_test_vec)))"
   ]
  },
  {
   "cell_type": "code",
   "execution_count": null,
   "metadata": {
    "collapsed": true
   },
   "outputs": [],
   "source": []
  }
 ],
 "metadata": {
  "kernelspec": {
   "display_name": "Python 3",
   "language": "python",
   "name": "python3"
  },
  "language_info": {
   "codemirror_mode": {
    "name": "ipython",
    "version": 3
   },
   "file_extension": ".py",
   "mimetype": "text/x-python",
   "name": "python",
   "nbconvert_exporter": "python",
   "pygments_lexer": "ipython3",
   "version": "3.6.3"
  }
 },
 "nbformat": 4,
 "nbformat_minor": 2
}
