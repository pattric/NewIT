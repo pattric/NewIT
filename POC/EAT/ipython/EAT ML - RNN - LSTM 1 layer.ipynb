{
 "cells": [
  {
   "cell_type": "code",
   "execution_count": 14,
   "metadata": {},
   "outputs": [],
   "source": [
    "import numpy as np\n",
    "np.random.seed(0)\n",
    "from keras.models import Model\n",
    "from keras.layers import Dense, Input, Dropout, LSTM, Activation\n",
    "from keras.layers.embeddings import Embedding\n",
    "from keras.preprocessing import sequence\n",
    "from keras.initializers import glorot_uniform\n",
    "np.random.seed(1)\n",
    "import pandas as pd\n",
    "import matplotlib.pyplot as plt\n",
    "%matplotlib inline"
   ]
  },
  {
   "cell_type": "code",
   "execution_count": 15,
   "metadata": {
    "collapsed": true
   },
   "outputs": [],
   "source": [
    "def sentences_to_indices(X, word_to_index, max_len):\n",
    "    m = X.shape[0]                                   # number of training examples\n",
    "    X_indices = np.zeros([m, max_len])\n",
    "    \n",
    "    for i in range(m):                               # loop over training examples\n",
    "        sentence_words =X[i].lower().split()\n",
    "        j = 0\n",
    "        for w in sentence_words:\n",
    "            if w in word_to_index and j < max_len:\n",
    "                X_indices[i, j] = word_to_index[w]\n",
    "                j = j + 1\n",
    "    return X_indices"
   ]
  },
  {
   "cell_type": "code",
   "execution_count": 16,
   "metadata": {
    "collapsed": true
   },
   "outputs": [],
   "source": [
    "def read_glove_vecs(file_path):\n",
    "    index_to_word = []\n",
    "    word_to_index = {}\n",
    "    word_to_vec_map = {}\n",
    "    index = 0\n",
    "    with open(file_path, encoding=\"utf8\") as f:\n",
    "        for line in f:\n",
    "            l = line.split()\n",
    "            index_to_word.append(l[0])\n",
    "            word_to_index[l[0]] = index\n",
    "            word_to_vec_map[l[0]] = np.asarray(l[1:], dtype=np.float32)\n",
    "            index += 1\n",
    "    return word_to_index, index_to_word, word_to_vec_map\n",
    "word_to_index, index_to_word, word_to_vec_map = read_glove_vecs('data/glove.6B.50d.first.3.rows.txt')\n",
    "# print(word_to_index, index_to_word, word_to_vec_map)"
   ]
  },
  {
   "cell_type": "code",
   "execution_count": 17,
   "metadata": {
    "collapsed": true
   },
   "outputs": [],
   "source": [
    "def pretrained_embedding_layer(word_to_vec_map, word_to_index):\n",
    "    vocab_len = len(word_to_index) + 1                  # adding 1 to fit Keras embedding (requirement)\n",
    "    emb_dim = word_to_vec_map[\"cucumber\"].shape[0]      # define dimensionality of your GloVe word vectors (= 50\n",
    "    emb_matrix = np.zeros([vocab_len, emb_dim])\n",
    "    \n",
    "    for word, index in word_to_index.items():\n",
    "        emb_matrix[index, :] = word_to_vec_map[word]\n",
    "        \n",
    "    embedding_layer = Embedding(vocab_len, emb_dim, trainable=False)\n",
    "    embedding_layer.build((None,))\n",
    "    \n",
    "    embedding_layer.set_weights([emb_matrix])\n",
    "    \n",
    "    return embedding_layer"
   ]
  },
  {
   "cell_type": "code",
   "execution_count": 18,
   "metadata": {
    "collapsed": true
   },
   "outputs": [],
   "source": [
    "def EAT_category_pred(input_shape, word_to_vec_map, word_to_index):\n",
    "    sentence_indices = Input(shape = input_shape, dtype = 'int32')\n",
    "    \n",
    "    embedding_layer = pretrained_embedding_layer(word_to_vec_map, word_to_index)\n",
    "    \n",
    "    embeddings = embedding_layer(sentence_indices)   \n",
    "    \n",
    "    X = LSTM(128, dropout=0.2, recurrent_dropout=0.2)(embeddings)\n",
    "    X = Dense(12)(X)\n",
    "    X = Activation('softmax')(X)\n",
    "    \n",
    "    model = Model(inputs=sentence_indices, outputs=X)\n",
    "    \n",
    "    return model"
   ]
  },
  {
   "cell_type": "code",
   "execution_count": 19,
   "metadata": {},
   "outputs": [
    {
     "data": {
      "text/plain": [
       "(array([  3.71000000e+02,   2.75450000e+04,   1.90680000e+04,\n",
       "          2.62100000e+03,   3.20000000e+02,   5.50000000e+01,\n",
       "          1.30000000e+01]),\n",
       " array([0, 1, 2, 3, 4, 5, 6, 7]),\n",
       " <a list of 7 Patch objects>)"
      ]
     },
     "execution_count": 19,
     "metadata": {},
     "output_type": "execute_result"
    },
    {
     "data": {
      "image/png": "[encoded data removed]",
      "text/plain": [
       "<matplotlib.figure.Figure at 0x15f32cf8>"
      ]
     },
     "metadata": {},
     "output_type": "display_data"
    }
   ],
   "source": [
    "dfs = pd.read_excel(\"export.xlsx\", sheetname=None)\n",
    "df = dfs['EAI.TBLEVENT']\n",
    "all_events_list = \"ENVIRONMENTAL_EVENT\tPERSONALSAFETY_EVENT\tPROCESSSAFETY_EVENT\tRELIABILITY_EVENT\tSECURITY_EVENT\tQUALITY_EVENT\tAUDIT_EVENT\tASSESSMENT_EVENT\tBEHAVIORTRENDS_EVENT\tSUCCESSANALYSIS_EVENT\tOTHERLEARNINGEXPERIENCE_EV\tOTHERUNPLANNED_EVENT\".split(\"\t\")\n",
    "def get_sum_of_cat_per_row(row, event_list):\n",
    "    sum = 0\n",
    "    for event in event_list:\n",
    "        sum += row[event]\n",
    "    return -sum\n",
    "df['sum_of_categories'] = df.apply(lambda row: get_sum_of_cat_per_row(row, all_events_list), axis=1)\n",
    "plt.hist(df['sum_of_categories'], bins = [0, 1, 2, 3, 4, 5, 6, 7])"
   ]
  },
  {
   "cell_type": "code",
   "execution_count": 20,
   "metadata": {
    "collapsed": true
   },
   "outputs": [],
   "source": [
    "df = df.loc[df['sum_of_categories'] == 1]\n",
    "df = df.sample(frac=1)\n",
    "df = df\n",
    "X_all = df['DESCRIPTION'].values.astype('U')\n",
    "Y_all = -df.loc[:, all_events_list].values"
   ]
  },
  {
   "cell_type": "code",
   "execution_count": 8,
   "metadata": {},
   "outputs": [
    {
     "data": {
      "text/plain": [
       "(array([ 16268.,   5422.,   2536.,   1247.,    767.,    492.,    341.,\n",
       "           209.,    154.,    109.]),\n",
       " array([   0. ,   36.4,   72.8,  109.2,  145.6,  182. ,  218.4,  254.8,\n",
       "         291.2,  327.6,  364. ]),\n",
       " <a list of 10 Patch objects>)"
      ]
     },
     "execution_count": 8,
     "metadata": {},
     "output_type": "execute_result"
    },
    {
     "data": {
      "image/png": "[encoded data removed]",
      "text/plain": [
       "<matplotlib.figure.Figure at 0xdad8ef0>"
      ]
     },
     "metadata": {},
     "output_type": "display_data"
    }
   ],
   "source": [
    "df['desc_len'] = df.apply(lambda row: len(str(row['DESCRIPTION']).split()), axis=1)\n",
    "plt.hist(df['desc_len'])"
   ]
  },
  {
   "cell_type": "code",
   "execution_count": 9,
   "metadata": {},
   "outputs": [],
   "source": [
    "word_to_index, index_to_word, word_to_vec_map = read_glove_vecs('data/glove.6B.50d.txt')"
   ]
  },
  {
   "cell_type": "code",
   "execution_count": 10,
   "metadata": {
    "collapsed": true
   },
   "outputs": [],
   "source": [
    "maxLen = 80"
   ]
  },
  {
   "cell_type": "code",
   "execution_count": 11,
   "metadata": {},
   "outputs": [
    {
     "name": "stdout",
     "output_type": "stream",
     "text": [
      "_________________________________________________________________\n",
      "Layer (type)                 Output Shape              Param #   \n",
      "=================================================================\n",
      "input_1 (InputLayer)         (None, 80)                0         \n",
      "_________________________________________________________________\n",
      "embedding_1 (Embedding)      (None, 80, 50)            20000050  \n",
      "_________________________________________________________________\n",
      "lstm_1 (LSTM)                (None, 128)               91648     \n",
      "_________________________________________________________________\n",
      "dense_1 (Dense)              (None, 12)                1548      \n",
      "_________________________________________________________________\n",
      "activation_1 (Activation)    (None, 12)                0         \n",
      "=================================================================\n",
      "Total params: 20,093,246\n",
      "Trainable params: 93,196\n",
      "Non-trainable params: 20,000,050\n",
      "_________________________________________________________________\n"
     ]
    }
   ],
   "source": [
    "model = EAT_category_pred((maxLen,), word_to_vec_map, word_to_index)\n",
    "model.summary()\n",
    "model.compile(loss='categorical_crossentropy', optimizer='adam', metrics=['accuracy'])"
   ]
  },
  {
   "cell_type": "code",
   "execution_count": 21,
   "metadata": {
    "collapsed": true
   },
   "outputs": [],
   "source": [
    "train_data_ratio = 0.7\n",
    "split_index = int(train_data_ratio * len(X_all))\n",
    "X_train, Y_train, X_test, Y_test = X_all[0:split_index], Y_all[0:split_index], X_all[split_index:], Y_all[split_index:]\n",
    "X_train_indices = sentences_to_indices(X_train, word_to_index, maxLen)\n",
    "# Y_train = convert_to_one_hot(Y_train, C = 5)"
   ]
  },
  {
   "cell_type": "code",
   "execution_count": 22,
   "metadata": {},
   "outputs": [
    {
     "name": "stdout",
     "output_type": "stream",
     "text": [
      "Epoch 1/10\n",
      "19281/19281 [==============================] - 62s 3ms/step - loss: 1.5135 - acc: 0.4329\n",
      "Epoch 2/10\n",
      "19281/19281 [==============================] - 60s 3ms/step - loss: 1.5080 - acc: 0.4378\n",
      "Epoch 3/10\n",
      "19281/19281 [==============================] - 67s 3ms/step - loss: 1.5081 - acc: 0.4379\n",
      "Epoch 4/10\n",
      "19281/19281 [==============================] - 63s 3ms/step - loss: 1.5090 - acc: 0.4372\n",
      "Epoch 5/10\n",
      "19281/19281 [==============================] - 60s 3ms/step - loss: 1.5082 - acc: 0.4377\n",
      "Epoch 6/10\n",
      "19281/19281 [==============================] - 62s 3ms/step - loss: 1.5071 - acc: 0.4378\n",
      "Epoch 7/10\n",
      "19281/19281 [==============================] - 62s 3ms/step - loss: 1.5075 - acc: 0.4378\n",
      "Epoch 8/10\n",
      "19281/19281 [==============================] - 63s 3ms/step - loss: 1.5074 - acc: 0.4378\n",
      "Epoch 9/10\n",
      "19281/19281 [==============================] - 67s 3ms/step - loss: 1.5075 - acc: 0.4378\n",
      "Epoch 10/10\n",
      "19281/19281 [==============================] - 61s 3ms/step - loss: 1.5075 - acc: 0.4378: 3s - loss: \n"
     ]
    },
    {
     "data": {
      "text/plain": [
       "<keras.callbacks.History at 0xfbe76a0>"
      ]
     },
     "execution_count": 22,
     "metadata": {},
     "output_type": "execute_result"
    }
   ],
   "source": [
    "model.fit(X_train_indices, Y_train, epochs = 10, batch_size = 64, shuffle=True)"
   ]
  },
  {
   "cell_type": "code",
   "execution_count": null,
   "metadata": {},
   "outputs": [],
   "source": [
    "# rand_indices = np.random.choice(19281, 5000)\n",
    "# X_test = X_all[rand_indices]\n",
    "# Y_test = Y_all[rand_indices]\n",
    "X_test_indices = sentences_to_indices(X_test, word_to_index, max_len = maxLen)\n",
    "loss, acc = model.evaluate(X_test_indices, Y_test)\n",
    "# loss, acc = model.evaluate(X_train_indices, Y_train)\n",
    "print(\"Test accuracy =\", acc)"
   ]
  },
  {
   "cell_type": "code",
   "execution_count": null,
   "metadata": {
    "collapsed": true
   },
   "outputs": [],
   "source": [
    "# model.save(\"keras-RNN-len40-acc7407.h5\")"
   ]
  },
  {
   "cell_type": "markdown",
   "metadata": {},
   "source": [
    "Improvement ideas:\n",
    "* clean the data\n",
    "* get more data\n",
    "* change the hyperparameters (though not much difference with 1 or 2 LSTM layers)"
   ]
  },
  {
   "cell_type": "code",
   "execution_count": null,
   "metadata": {
    "collapsed": true
   },
   "outputs": [],
   "source": []
  }
 ],
 "metadata": {
  "kernelspec": {
   "display_name": "Python 3",
   "language": "python",
   "name": "python3"
  },
  "language_info": {
   "codemirror_mode": {
    "name": "ipython",
    "version": 3
   },
   "file_extension": ".py",
   "mimetype": "text/x-python",
   "name": "python",
   "nbconvert_exporter": "python",
   "pygments_lexer": "ipython3",
   "version": "3.6.3"
  }
 },
 "nbformat": 4,
 "nbformat_minor": 2
}
